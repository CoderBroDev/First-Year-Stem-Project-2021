{
  "nbformat": 4,
  "nbformat_minor": 0,
  "metadata": {
    "colab": {
      "name": "Revision Codes.ipynb",
      "provenance": [],
      "collapsed_sections": [],
      "authorship_tag": "ABX9TyNXNHvEQfHe3WXnvGSNLI/j",
      "include_colab_link": true
    },
    "kernelspec": {
      "name": "python3",
      "display_name": "Python 3"
    },
    "language_info": {
      "name": "python"
    }
  },
  "cells": [
    {
      "cell_type": "markdown",
      "metadata": {
        "id": "view-in-github",
        "colab_type": "text"
      },
      "source": [
        "<a href=\"https://colab.research.google.com/github/CoderBroDev/First-Year-Stem-Project-2022/blob/main/RevisionCodes.ipynb\" target=\"_parent\"><img src=\"https://colab.research.google.com/assets/colab-badge.svg\" alt=\"Open In Colab\"/></a>"
      ]
    },
    {
      "cell_type": "code",
      "execution_count": null,
      "metadata": {
        "colab": {
          "base_uri": "https://localhost:8080/"
        },
        "id": "xikIVJmjNS9S",
        "outputId": "4b3ec4bd-91cf-4177-e204-b03a69dffac1"
      },
      "outputs": [
        {
          "output_type": "stream",
          "name": "stdout",
          "text": [
            "Enter + for addition, - for subtraction, * for multiplication and / for division/\n",
            "Enter the first number6\n",
            "Enter the second number7\n",
            "Quotient= 0.8571428571428571\n"
          ]
        }
      ],
      "source": [
        "#Calculator\n",
        "n=input(\"Enter + for addition, - for subtraction, * for multiplication and / for division\")\n",
        "a=int(input(\"Enter the first number\"))\n",
        "b=int(input(\"Enter the second number\"))\n",
        "if n==\"+\":\n",
        " print(\"Sum=\",a+b)\n",
        "elif n==\"-\":\n",
        " print(\"Difference=\",a-b)\n",
        "elif n==\"*\":\n",
        " print(\"Product=\",a*b)\n",
        "elif n==\"/\":\n",
        " print(\"Quotient=\",a/b)\n",
        "else:\n",
        "  print(\"Enter the values properly!\")"
      ]
    },
    {
      "cell_type": "code",
      "source": [
        "#Simple Interest\n",
        "p=int(input(\"Enter the Principal Amount\"))\n",
        "r=float(input(\"Enter the Rate\"))\n",
        "t=int(input(\"Enter the time\"))\n",
        "I=p*r*t/100\n",
        "print(\"Simple Interest=\",I)"
      ],
      "metadata": {
        "id": "8WPj02PInWtG",
        "colab": {
          "base_uri": "https://localhost:8080/"
        },
        "outputId": "22c34fd1-07e1-425e-8f3c-8c8b22dfbd37"
      },
      "execution_count": null,
      "outputs": [
        {
          "output_type": "stream",
          "name": "stdout",
          "text": [
            "Enter the Principal Amount45\n",
            "Enter the Rate45\n",
            "Enter the time55\n",
            "Simple Interest= 1113.75\n"
          ]
        }
      ]
    },
    {
      "cell_type": "code",
      "source": [
        "#Area and Perimeter of Rectangle\n",
        "l=float(input(\"Enter the length\"))\n",
        "b=float(input(\"Enter the breadth\"))\n",
        "a=l*b\n",
        "p=2 * (l+b)\n",
        "print(\"Area=\",a,\"Perimeter\",p)\n"
      ],
      "metadata": {
        "colab": {
          "base_uri": "https://localhost:8080/"
        },
        "id": "5e3zpTbF1vTG",
        "outputId": "b6a8dff8-18fe-4f5b-ddb3-20c3a09e01b5"
      },
      "execution_count": null,
      "outputs": [
        {
          "output_type": "stream",
          "name": "stdout",
          "text": [
            "Enter the length34\n",
            "Enter the breadth45\n",
            "Area= 1530.0 Perimeter 158.0\n"
          ]
        }
      ]
    },
    {
      "cell_type": "code",
      "source": [
        "#Coverting to Km to M\n",
        "km=float(input(\"Enter values in Km\"))\n",
        "m=km*1000\n",
        "print(km,\"Kilometer=\",m,\"Meters\")"
      ],
      "metadata": {
        "colab": {
          "base_uri": "https://localhost:8080/"
        },
        "id": "D_hJBkHe10bh",
        "outputId": "03ecdee2-505b-42c5-e100-f7fe8249eb96"
      },
      "execution_count": null,
      "outputs": [
        {
          "output_type": "stream",
          "name": "stdout",
          "text": [
            "Enter values in Km56\n",
            "56.0 Kilometer= 56000.0 Meters\n"
          ]
        }
      ]
    },
    {
      "cell_type": "code",
      "source": [
        "#Sum of 3 numbers\n",
        "a=int(input(\"Enter any number\"))\n",
        "b=int(input(\"Enter any number\"))\n",
        "c=int(input(\"Enter any number\"))\n",
        "print(\"sum of\",a,b,c,\"is\",a+b+c)"
      ],
      "metadata": {
        "colab": {
          "base_uri": "https://localhost:8080/"
        },
        "id": "n4buNFF_4QRL",
        "outputId": "0efe7ee8-2676-4bec-a741-5db269f9d9ac"
      },
      "execution_count": null,
      "outputs": [
        {
          "output_type": "stream",
          "name": "stdout",
          "text": [
            "Enter any number2\n",
            "Enter any number3\n",
            "Enter any number4\n",
            "sum of 2 3 4 is 9\n"
          ]
        }
      ]
    },
    {
      "cell_type": "code",
      "source": [
        "#Swap 2 numbers\n",
        "a=int(input(\"Enter any number\"))\n",
        "b=int(input(\"Enter any number\"))\n",
        "temp=a\n",
        "a=b\n",
        "b=temp\n",
        "print(\"Swapped Values:a=\",a,\"b=\",b)"
      ],
      "metadata": {
        "colab": {
          "base_uri": "https://localhost:8080/"
        },
        "id": "XsAYrQMc5bN8",
        "outputId": "2738bfdf-f49b-4959-c5ea-ea2b193e898f"
      },
      "execution_count": null,
      "outputs": [
        {
          "output_type": "stream",
          "name": "stdout",
          "text": [
            "Enter any number23\n",
            "Enter any number45\n",
            "Swapped Values:a= 45 b= 23\n"
          ]
        }
      ]
    },
    {
      "cell_type": "code",
      "source": [
        "#Average of 3 marks\n",
        "a=float(input(\"Enter Subject 1 Marks\"))\n",
        "b=float(input(\"Enter Subject 2 Marks\"))\n",
        "c=float(input(\"Enter Subject 3 Marks\"))\n",
        "avg= (a+b+c)/3\n",
        "print(\"Average=\",avg)"
      ],
      "metadata": {
        "colab": {
          "base_uri": "https://localhost:8080/"
        },
        "id": "3jLEybcM9AhT",
        "outputId": "bf0ca50d-ca5c-4ffc-ac5e-86bff3624ba7"
      },
      "execution_count": null,
      "outputs": [
        {
          "output_type": "stream",
          "name": "stdout",
          "text": [
            "Enter Subject 1 Marks34\n",
            "Enter Subject 2 Marks76\n",
            "Enter Subject 3 Marks80\n",
            "Average= 63.333333333333336\n"
          ]
        }
      ]
    },
    {
      "cell_type": "code",
      "source": [
        "#Surface of a Cylinder\n",
        "r=float(input(\"Enter Radius\"))\n",
        "h=float(input(\"Enter Height\"))\n",
        "sa=2*3.14*r*h\n",
        "print(\"Surface Area=\",sa)\n"
      ],
      "metadata": {
        "id": "gcLp0Bqp_8wo",
        "colab": {
          "base_uri": "https://localhost:8080/"
        },
        "outputId": "5cd216a3-c8c5-405e-c6e5-7fd7e5d7a87f"
      },
      "execution_count": 21,
      "outputs": [
        {
          "output_type": "stream",
          "name": "stdout",
          "text": [
            "Enter Radius23\n",
            "Enter Height45\n",
            "Surface Area= 6499.8\n"
          ]
        }
      ]
    },
    {
      "cell_type": "code",
      "source": [
        "#Volume of the Cuboid\n",
        "l=float(input(\"Enter the length\"))\n",
        "b=float(input(\"Enter the breadth\"))\n",
        "h=float(input(\"Enter the height\"))\n",
        "v=l*b*h\n",
        "print(\"Volume=\",v)"
      ],
      "metadata": {
        "colab": {
          "base_uri": "https://localhost:8080/"
        },
        "id": "EdgAlt6-D-yV",
        "outputId": "06031ab3-d8c4-4ae3-fa1f-89504667fee0"
      },
      "execution_count": 22,
      "outputs": [
        {
          "output_type": "stream",
          "name": "stdout",
          "text": [
            "Enter the length2\n",
            "Enter the breadth3\n",
            "Enter the height5\n",
            "Volume= 30.0\n"
          ]
        }
      ]
    },
    {
      "cell_type": "code",
      "source": [
        "#Program to find area and perimeter of a square \n",
        "a=float(input(\"Enter the side of the square\"))\n",
        "area=a*a\n",
        "p=4*a\n",
        "print(\"Area=\",area,\"Perimeter\",p)\n",
        "\n"
      ],
      "metadata": {
        "colab": {
          "base_uri": "https://localhost:8080/"
        },
        "id": "tKYa5MhuE69f",
        "outputId": "a6acf4ed-5150-44cc-f3e4-3aaa45af9b5e"
      },
      "execution_count": 23,
      "outputs": [
        {
          "output_type": "stream",
          "name": "stdout",
          "text": [
            "Enter the length23\n",
            "Area= 529.0 Perimeter 92.0\n"
          ]
        }
      ]
    },
    {
      "cell_type": "code",
      "source": [
        "#Greatest of 2 numbers\n",
        "a=int(input(\"Enter the number\"))\n",
        "b=int(input(\"Enter the number\"))\n",
        "if a>b:\n",
        "  print(a,\"is the greatest\")\n",
        "else:\n",
        "  print(b,\"is the greatest\")"
      ],
      "metadata": {
        "colab": {
          "base_uri": "https://localhost:8080/"
        },
        "id": "oWzTmwRQGBdG",
        "outputId": "f25450a5-b432-464e-c18b-1f383df28948"
      },
      "execution_count": 24,
      "outputs": [
        {
          "output_type": "stream",
          "name": "stdout",
          "text": [
            "Enter the number34\n",
            "Enter the number78\n",
            "78 is the greatest\n"
          ]
        }
      ]
    },
    {
      "cell_type": "code",
      "source": [
        "#Smallest of 2 numbers\n",
        "a=int(input(\"Enter the number\"))\n",
        "b=int(input(\"Enter the number\"))\n",
        "if a<b:\n",
        "  print(a,\"is the smallest\")\n",
        "else:\n",
        "  print(b,\"is the smallest\")"
      ],
      "metadata": {
        "colab": {
          "base_uri": "https://localhost:8080/"
        },
        "id": "rd1aLpRIGpuL",
        "outputId": "48b95991-6b78-4a8d-fe43-033b66714054"
      },
      "execution_count": 25,
      "outputs": [
        {
          "output_type": "stream",
          "name": "stdout",
          "text": [
            "Enter the number45\n",
            "Enter the number56\n",
            "45 is the smallest\n"
          ]
        }
      ]
    },
    {
      "cell_type": "code",
      "source": [
        "#OddorEven\n",
        "a=int(input(\"Enter a number\"))\n",
        "if a%2==0:\n",
        " print(\"Even\")\n",
        "else:\n",
        "  print(\"Odd\")"
      ],
      "metadata": {
        "colab": {
          "base_uri": "https://localhost:8080/"
        },
        "id": "Gohe8WdtG09-",
        "outputId": "bd06b67b-7e26-406f-cea4-b29a795ff5de"
      },
      "execution_count": 28,
      "outputs": [
        {
          "output_type": "stream",
          "name": "stdout",
          "text": [
            "Enter a number24\n",
            "Even\n"
          ]
        }
      ]
    },
    {
      "cell_type": "code",
      "source": [
        "#Eligibility for Drivers License\n",
        "age=float(input(\"Enter your age:\"))\n",
        "n=input(\"Enter I if you are from India:\")\n",
        "if age>=18 and n==\"I\":\n",
        "  print(\"Eligible\")\n",
        "else:\n",
        "    print(\"Not Eligible\")\n"
      ],
      "metadata": {
        "id": "gUfPvJhHHva9"
      },
      "execution_count": null,
      "outputs": []
    },
    {
      "cell_type": "code",
      "source": [
        "#Eligibility for Voting\n",
        "age=float(input(\"Enter your age:\"))\n",
        "n=input(\"Enter I if you are from India:\")\n",
        "if age>=18 and n==\"I\":\n",
        "  print(\"Eligible\")\n",
        "else:\n",
        "    print(\"Not Eligible\")"
      ],
      "metadata": {
        "id": "GQeKNucMH9hR"
      },
      "execution_count": null,
      "outputs": []
    },
    {
      "cell_type": "code",
      "source": [
        "#Eligibility for KG Admission\n",
        "age=float(input(\"Enter your age:\"))\n",
        "if age>=4 and age<=6 :\n",
        "  print(\"Eligible\")\n",
        "else:\n",
        "    print(\"Not Eligible\")\n"
      ],
      "metadata": {
        "id": "thXIsZ9aICLO"
      },
      "execution_count": null,
      "outputs": []
    },
    {
      "cell_type": "code",
      "source": [
        "#Check the given angles are of the triangle\n",
        "a=float(input(\"Enter the first angle\"))\n",
        "b=float(input(\"Enter the second angle\"))\n",
        "c=float(input(\"Enter the third angle\"))\n",
        "if a+b+c==180:\n",
        "  print(\"Given three angles are of a triangle\")\n",
        "else:\n",
        "  print(\"Not angles of a triangle\")"
      ],
      "metadata": {
        "id": "XJLTZTV2I32w"
      },
      "execution_count": null,
      "outputs": []
    },
    {
      "cell_type": "code",
      "source": [
        "#Positive Negative Zero\n",
        "x=int(input(\"enter any number\"))\n",
        "if x==0:\n",
        "  print(\"Zero\")\n",
        "elif x>0:\n",
        "    print(\"positive\")\n",
        "else:\n",
        "  print(\"negative\")"
      ],
      "metadata": {
        "id": "KXxc1FdDMDeH"
      },
      "execution_count": null,
      "outputs": []
    },
    {
      "cell_type": "code",
      "source": [
        "#Greatest of 3 Numbers\n",
        "a=int(input(\"Enter any number\"))\n",
        "b=int(input(\"Enter any number\"))\n",
        "c=int(input(\"Enter any number\"))\n",
        "if a>b and a>c:\n",
        "  print(a,\"is the greatest\")\n",
        "elif b>a and b>c:\n",
        "  print(b,\"is the greatest\")\n",
        "else:\n",
        "    print(c,\"is the greatest\")"
      ],
      "metadata": {
        "id": "LWo3QERVQ-GS"
      },
      "execution_count": null,
      "outputs": []
    },
    {
      "cell_type": "code",
      "source": [
        "#Scholarship Marks- Total Marks=600, Above 540-full scholarship,above480-50% scholarship,above 400-10% scholarship, other cases-no scholarship\n",
        "a=float(input(\"Enter total marks out of 600\"))\n",
        "if a>=540:\n",
        " print(\"Congratulations and Celebrations!!Full Scholarship\")\n",
        "elif a>=480:\n",
        " print(\"Congratulations and Celebrations!!50% Scholarship\")\n",
        "elif a>=400:\n",
        " print(\"Congratulations and Celebrations!!10% Scholarship\")\n",
        "else:\n",
        "  print(\"No Scholarship. Better luck next time...\")"
      ],
      "metadata": {
        "id": "kIgvNoqISDm8"
      },
      "execution_count": null,
      "outputs": []
    },
    {
      "cell_type": "code",
      "source": [
        "#Grades based on Marks given\n",
        "math=float(input(\"Enter your maths marks\"))\n",
        "eng=float(input(\"Enter your eng marks\"))\n",
        "science=float(input(\"Enter your science marks\"))\n",
        "avg=(math+eng+science/3)\n",
        "if avg>90:\n",
        "  print(\"A1\")\n",
        "elif avg>80:\n",
        "  print(\"A2\")\n",
        "elif avg>70:\n",
        "  print(\"B1\")\n",
        "elif avg>60:\n",
        "  print(\"B2\")\n",
        "elif avg>50:\n",
        "  print(\"C\")\n",
        "else:\n",
        "  print(\"Fail\")"
      ],
      "metadata": {
        "id": "FQj6IKE3THPC"
      },
      "execution_count": null,
      "outputs": []
    },
    {
      "cell_type": "code",
      "source": [
        "#Program to print days of the week based on the number you entered\n",
        "x=int(input(\"enter any number from 1 to 7\"))\n",
        "if x==1:\n",
        "  print(\"Monday\")\n",
        "elif x==2:\n",
        "  print(\"Tuesday\")\n",
        "elif x==3:\n",
        "  print(\"Wednesday\")\n",
        "elif x==4:\n",
        "  print(\"Thursday\")\n",
        "elif x==5:\n",
        "  print(\"Friday\")\n",
        "elif x==6:\n",
        "  print(\"Saturday\")\n",
        "elif x==7:\n",
        "  print(\"Sunday\")\n",
        "else:\n",
        "    print(\"invalid number\")\n"
      ],
      "metadata": {
        "id": "rXht3HhhTNKv"
      },
      "execution_count": null,
      "outputs": []
    }
  ]
}