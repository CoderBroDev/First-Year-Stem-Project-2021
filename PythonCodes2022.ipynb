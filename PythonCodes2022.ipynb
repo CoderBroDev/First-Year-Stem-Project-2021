{
  "nbformat": 4,
  "nbformat_minor": 0,
  "metadata": {
    "colab": {
      "name": "Revision Codes.ipynb",
      "provenance": [],
      "collapsed_sections": [],
      "authorship_tag": "ABX9TyNZDDLZeaNtqaheX5ppZDAK",
      "include_colab_link": true
    },
    "kernelspec": {
      "name": "python3",
      "display_name": "Python 3"
    },
    "language_info": {
      "name": "python"
    }
  },
  "cells": [
    {
      "cell_type": "markdown",
      "metadata": {
        "id": "view-in-github",
        "colab_type": "text"
      },
      "source": [
        "<a href=\"https://colab.research.google.com/github/CoderBroDev/First-Year-Stem-Project-2021/blob/main/PythonCodes2022.ipynb\" target=\"_parent\"><img src=\"https://colab.research.google.com/assets/colab-badge.svg\" alt=\"Open In Colab\"/></a>"
      ]
    },
    {
      "cell_type": "code",
      "execution_count": null,
      "metadata": {
        "colab": {
          "base_uri": "https://localhost:8080/"
        },
        "id": "xikIVJmjNS9S",
        "outputId": "4b3ec4bd-91cf-4177-e204-b03a69dffac1"
      },
      "outputs": [
        {
          "output_type": "stream",
          "name": "stdout",
          "text": [
            "Enter + for addition, - for subtraction, * for multiplication and / for division/\n",
            "Enter the first number6\n",
            "Enter the second number7\n",
            "Quotient= 0.8571428571428571\n"
          ]
        }
      ],
      "source": [
        "#Calculator\n",
        "n=input(\"Enter + for addition, - for subtraction, * for multiplication and / for division\")\n",
        "a=int(input(\"Enter the first number\"))\n",
        "b=int(input(\"Enter the second number\"))\n",
        "if n==\"+\":\n",
        " print(\"Sum=\",a+b)\n",
        "elif n==\"-\":\n",
        " print(\"Difference=\",a-b)\n",
        "elif n==\"*\":\n",
        " print(\"Product=\",a*b)\n",
        "elif n==\"/\":\n",
        " print(\"Quotient=\",a/b)\n",
        "else:\n",
        "  print(\"Enter the values properly!\")"
      ]
    },
    {
      "cell_type": "code",
      "source": [
        "#Simple Interest\n",
        "p=int(input(\"Enter the Principal Amount\"))\n",
        "r=float(input(\"Enter the Rate\"))\n",
        "t=int(input(\"Enter the time\"))\n",
        "I=p*r*t/100\n",
        "print(\"Simple Interest=\",I)"
      ],
      "metadata": {
        "id": "8WPj02PInWtG",
        "colab": {
          "base_uri": "https://localhost:8080/"
        },
        "outputId": "22c34fd1-07e1-425e-8f3c-8c8b22dfbd37"
      },
      "execution_count": null,
      "outputs": [
        {
          "output_type": "stream",
          "name": "stdout",
          "text": [
            "Enter the Principal Amount45\n",
            "Enter the Rate45\n",
            "Enter the time55\n",
            "Simple Interest= 1113.75\n"
          ]
        }
      ]
    },
    {
      "cell_type": "code",
      "source": [
        "#Area and Perimeter of Rectangle\n",
        "l=float(input(\"Enter the length\"))\n",
        "b=float(input(\"Enter the breadth\"))\n",
        "a=l*b\n",
        "p=2 * (l+b)\n",
        "print(\"Area=\",a,\"Perimeter\",p)\n"
      ],
      "metadata": {
        "colab": {
          "base_uri": "https://localhost:8080/"
        },
        "id": "5e3zpTbF1vTG",
        "outputId": "b6a8dff8-18fe-4f5b-ddb3-20c3a09e01b5"
      },
      "execution_count": null,
      "outputs": [
        {
          "output_type": "stream",
          "name": "stdout",
          "text": [
            "Enter the length34\n",
            "Enter the breadth45\n",
            "Area= 1530.0 Perimeter 158.0\n"
          ]
        }
      ]
    },
    {
      "cell_type": "code",
      "source": [
        "#Coverting to Km to M\n",
        "km=float(input(\"Enter values in Km\"))\n",
        "m=km*1000\n",
        "print(km,\"Kilometer=\",m,\"Meters\")"
      ],
      "metadata": {
        "colab": {
          "base_uri": "https://localhost:8080/"
        },
        "id": "D_hJBkHe10bh",
        "outputId": "03ecdee2-505b-42c5-e100-f7fe8249eb96"
      },
      "execution_count": null,
      "outputs": [
        {
          "output_type": "stream",
          "name": "stdout",
          "text": [
            "Enter values in Km56\n",
            "56.0 Kilometer= 56000.0 Meters\n"
          ]
        }
      ]
    },
    {
      "cell_type": "code",
      "source": [
        "#Sum of 3 numbers\n",
        "a=int(input(\"Enter any number\"))\n",
        "b=int(input(\"Enter any number\"))\n",
        "c=int(input(\"Enter any number\"))\n",
        "print(\"sum of\",a,b,c,\"is\",a+b+c)"
      ],
      "metadata": {
        "colab": {
          "base_uri": "https://localhost:8080/"
        },
        "id": "n4buNFF_4QRL",
        "outputId": "0efe7ee8-2676-4bec-a741-5db269f9d9ac"
      },
      "execution_count": null,
      "outputs": [
        {
          "output_type": "stream",
          "name": "stdout",
          "text": [
            "Enter any number2\n",
            "Enter any number3\n",
            "Enter any number4\n",
            "sum of 2 3 4 is 9\n"
          ]
        }
      ]
    },
    {
      "cell_type": "code",
      "source": [
        "#Swap 2 numbers\n",
        "a=int(input(\"Enter any number\"))\n",
        "b=int(input(\"Enter any number\"))\n",
        "temp=a\n",
        "a=b\n",
        "b=temp\n",
        "print(\"Swapped Values:a=\",a,\"b=\",b)"
      ],
      "metadata": {
        "colab": {
          "base_uri": "https://localhost:8080/"
        },
        "id": "XsAYrQMc5bN8",
        "outputId": "2738bfdf-f49b-4959-c5ea-ea2b193e898f"
      },
      "execution_count": null,
      "outputs": [
        {
          "output_type": "stream",
          "name": "stdout",
          "text": [
            "Enter any number23\n",
            "Enter any number45\n",
            "Swapped Values:a= 45 b= 23\n"
          ]
        }
      ]
    },
    {
      "cell_type": "code",
      "source": [
        "#Average of 3 marks\n",
        "a=float(input(\"Enter Subject 1 Marks\"))\n",
        "b=float(input(\"Enter Subject 2 Marks\"))\n",
        "c=float(input(\"Enter Subject 3 Marks\"))\n",
        "avg= (a+b+c)/3\n",
        "print(\"Average=\",avg)"
      ],
      "metadata": {
        "colab": {
          "base_uri": "https://localhost:8080/"
        },
        "id": "3jLEybcM9AhT",
        "outputId": "bf0ca50d-ca5c-4ffc-ac5e-86bff3624ba7"
      },
      "execution_count": null,
      "outputs": [
        {
          "output_type": "stream",
          "name": "stdout",
          "text": [
            "Enter Subject 1 Marks34\n",
            "Enter Subject 2 Marks76\n",
            "Enter Subject 3 Marks80\n",
            "Average= 63.333333333333336\n"
          ]
        }
      ]
    },
    {
      "cell_type": "code",
      "source": [
        ""
      ],
      "metadata": {
        "id": "gcLp0Bqp_8wo"
      },
      "execution_count": null,
      "outputs": []
    }
  ]
}